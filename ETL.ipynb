{
 "cells": [
  {
   "cell_type": "code",
   "execution_count": 10,
   "metadata": {},
   "outputs": [],
   "source": [
    "import gzip, ast, json, pandas as pd\n",
    "\n",
    "data = []\n",
    "with gzip.open('steam_games.json.gz', 'rb') as f:\n",
    "    for line in f:\n",
    "        data.append(json.loads(line))\n",
    "steam_games = pd.DataFrame(data)\n",
    "f.close()\n",
    "\n",
    "\n",
    "data = []\n",
    "with gzip.open('user_reviews.json.gz', 'rb') as f:\n",
    "    for line in f:\n",
    "        data.append(ast.literal_eval(line.decode('utf-8')))\n",
    "user_reviews = pd.DataFrame(data)\n",
    "f.close()\n",
    "\n",
    "\n"
   ]
  },
  {
   "cell_type": "code",
   "execution_count": 11,
   "metadata": {},
   "outputs": [],
   "source": [
    "data = []\n",
    "with gzip.open('users_items.json.gz', 'rb') as f:\n",
    "    for line in f:\n",
    "        data.append(ast.literal_eval(line.decode('utf-8')))\n",
    "user_items = pd.DataFrame(data)\n",
    "f.close()"
   ]
  },
  {
   "cell_type": "markdown",
   "metadata": {},
   "source": [
    "CREAR COLUMNA user_reviews.sentiment_analysis \n",
    "1. reviasamos el Dataframe user_reviews con( .info() y .head()) y preparamos la columna user_reviews.reviews para desanidarla pero la preparamos para que este formada por objetos \n",
    ".json \n",
    "2. procedemos crear la funcion para consegir user_reviews.sentiment_analysis \n",
    "3. eliminamos nulos \n",
    "4. creamos archivo user_reviews.csv"
   ]
  },
  {
   "cell_type": "code",
   "execution_count": 12,
   "metadata": {},
   "outputs": [
    {
     "name": "stdout",
     "output_type": "stream",
     "text": [
      "<class 'pandas.core.frame.DataFrame'>\n",
      "RangeIndex: 25799 entries, 0 to 25798\n",
      "Data columns (total 3 columns):\n",
      " #   Column    Non-Null Count  Dtype \n",
      "---  ------    --------------  ----- \n",
      " 0   user_id   25799 non-null  object\n",
      " 1   user_url  25799 non-null  object\n",
      " 2   reviews   25799 non-null  object\n",
      "dtypes: object(3)\n",
      "memory usage: 604.8+ KB\n"
     ]
    }
   ],
   "source": [
    "user_reviews.info() # mirando DataFrame observamos 3 columnas"
   ]
  },
  {
   "cell_type": "code",
   "execution_count": 13,
   "metadata": {},
   "outputs": [
    {
     "data": {
      "text/html": [
       "<div>\n",
       "<style scoped>\n",
       "    .dataframe tbody tr th:only-of-type {\n",
       "        vertical-align: middle;\n",
       "    }\n",
       "\n",
       "    .dataframe tbody tr th {\n",
       "        vertical-align: top;\n",
       "    }\n",
       "\n",
       "    .dataframe thead th {\n",
       "        text-align: right;\n",
       "    }\n",
       "</style>\n",
       "<table border=\"1\" class=\"dataframe\">\n",
       "  <thead>\n",
       "    <tr style=\"text-align: right;\">\n",
       "      <th></th>\n",
       "      <th>user_id</th>\n",
       "      <th>user_url</th>\n",
       "      <th>reviews</th>\n",
       "    </tr>\n",
       "  </thead>\n",
       "  <tbody>\n",
       "    <tr>\n",
       "      <th>0</th>\n",
       "      <td>76561197970982479</td>\n",
       "      <td>http://steamcommunity.com/profiles/76561197970...</td>\n",
       "      <td>[{'funny': '', 'posted': 'Posted November 5, 2...</td>\n",
       "    </tr>\n",
       "    <tr>\n",
       "      <th>1</th>\n",
       "      <td>js41637</td>\n",
       "      <td>http://steamcommunity.com/id/js41637</td>\n",
       "      <td>[{'funny': '', 'posted': 'Posted June 24, 2014...</td>\n",
       "    </tr>\n",
       "    <tr>\n",
       "      <th>2</th>\n",
       "      <td>evcentric</td>\n",
       "      <td>http://steamcommunity.com/id/evcentric</td>\n",
       "      <td>[{'funny': '', 'posted': 'Posted February 3.',...</td>\n",
       "    </tr>\n",
       "    <tr>\n",
       "      <th>3</th>\n",
       "      <td>doctr</td>\n",
       "      <td>http://steamcommunity.com/id/doctr</td>\n",
       "      <td>[{'funny': '', 'posted': 'Posted October 14, 2...</td>\n",
       "    </tr>\n",
       "    <tr>\n",
       "      <th>4</th>\n",
       "      <td>maplemage</td>\n",
       "      <td>http://steamcommunity.com/id/maplemage</td>\n",
       "      <td>[{'funny': '3 people found this review funny',...</td>\n",
       "    </tr>\n",
       "  </tbody>\n",
       "</table>\n",
       "</div>"
      ],
      "text/plain": [
       "             user_id                                           user_url  \\\n",
       "0  76561197970982479  http://steamcommunity.com/profiles/76561197970...   \n",
       "1            js41637               http://steamcommunity.com/id/js41637   \n",
       "2          evcentric             http://steamcommunity.com/id/evcentric   \n",
       "3              doctr                 http://steamcommunity.com/id/doctr   \n",
       "4          maplemage             http://steamcommunity.com/id/maplemage   \n",
       "\n",
       "                                             reviews  \n",
       "0  [{'funny': '', 'posted': 'Posted November 5, 2...  \n",
       "1  [{'funny': '', 'posted': 'Posted June 24, 2014...  \n",
       "2  [{'funny': '', 'posted': 'Posted February 3.',...  \n",
       "3  [{'funny': '', 'posted': 'Posted October 14, 2...  \n",
       "4  [{'funny': '3 people found this review funny',...  "
      ]
     },
     "execution_count": 13,
     "metadata": {},
     "output_type": "execute_result"
    }
   ],
   "source": [
    "user_reviews.head() # miramos los tres columnas y las 5 primeras filas del DataFrame "
   ]
  },
  {
   "cell_type": "code",
   "execution_count": 14,
   "metadata": {},
   "outputs": [
    {
     "data": {
      "text/plain": [
       "0        [{'funny': '', 'posted': 'Posted November 5, 2...\n",
       "1        [{'funny': '', 'posted': 'Posted June 24, 2014...\n",
       "2        [{'funny': '', 'posted': 'Posted February 3.',...\n",
       "3        [{'funny': '', 'posted': 'Posted October 14, 2...\n",
       "4        [{'funny': '3 people found this review funny',...\n",
       "                               ...                        \n",
       "25794    [{'funny': '', 'posted': 'Posted May 31.', 'la...\n",
       "25795    [{'funny': '', 'posted': 'Posted June 17.', 'l...\n",
       "25796    [{'funny': '1 person found this review funny',...\n",
       "25797    [{'funny': '', 'posted': 'Posted July 21.', 'l...\n",
       "25798    [{'funny': '1 person found this review funny',...\n",
       "Name: reviews, Length: 25799, dtype: object"
      ]
     },
     "execution_count": 14,
     "metadata": {},
     "output_type": "execute_result"
    }
   ],
   "source": [
    "user_reviews[\"reviews\"] # mirando el pricipio y final de  columna user_reviews.reviews\n",
    "# observamos que clave y valor tienen comillas simples  "
   ]
  },
  {
   "cell_type": "markdown",
   "metadata": {},
   "source": [
    "Creamos  funcion para corregir columna user_reviews.reviews"
   ]
  },
  {
   "cell_type": "code",
   "execution_count": 15,
   "metadata": {},
   "outputs": [],
   "source": [
    "import json\n",
    "\n",
    "def corregir_reviews_a_json(df):\n",
    "    def corregir_celda(celda):\n",
    "        if isinstance(celda, str):\n",
    "            try:\n",
    "                # Intentar cargar la celda como JSON\n",
    "                json_data = json.loads(celda)\n",
    "                return json_data\n",
    "            except json.JSONDecodeError:\n",
    "                # Si hay un error al cargar como JSON, devolver la celda sin cambios\n",
    "                return celda\n",
    "        elif isinstance(celda, list):\n",
    "            # Si la celda es una lista, convertirla a una cadena JSON\n",
    "            return json.dumps(celda)\n",
    "        else:\n",
    "            # Si la celda no es ni una cadena ni una lista, devolverla sin cambios\n",
    "            return celda\n",
    "\n",
    "    # Aplicar la función a cada celda de la columna 'reviews'\n",
    "    df['reviews'] = df['reviews'].apply(corregir_celda)\n",
    "    return df\n",
    "\n",
    "# Llamar a la función con tu DataFrame\n",
    "user_reviews = corregir_reviews_a_json(user_reviews)\n"
   ]
  },
  {
   "cell_type": "code",
   "execution_count": 16,
   "metadata": {},
   "outputs": [
    {
     "data": {
      "text/plain": [
       "0        [{\"funny\": \"\", \"posted\": \"Posted November 5, 2...\n",
       "1        [{\"funny\": \"\", \"posted\": \"Posted June 24, 2014...\n",
       "2        [{\"funny\": \"\", \"posted\": \"Posted February 3.\",...\n",
       "3        [{\"funny\": \"\", \"posted\": \"Posted October 14, 2...\n",
       "4        [{\"funny\": \"3 people found this review funny\",...\n",
       "                               ...                        \n",
       "25794    [{\"funny\": \"\", \"posted\": \"Posted May 31.\", \"la...\n",
       "25795    [{\"funny\": \"\", \"posted\": \"Posted June 17.\", \"l...\n",
       "25796    [{\"funny\": \"1 person found this review funny\",...\n",
       "25797    [{\"funny\": \"\", \"posted\": \"Posted July 21.\", \"l...\n",
       "25798    [{\"funny\": \"1 person found this review funny\",...\n",
       "Name: reviews, Length: 25799, dtype: object"
      ]
     },
     "execution_count": 16,
     "metadata": {},
     "output_type": "execute_result"
    }
   ],
   "source": [
    "user_reviews[\"reviews\"] # mirando columna reviews y vemos que ya si parece un json "
   ]
  },
  {
   "cell_type": "markdown",
   "metadata": {},
   "source": [
    "procedemos a desanidar la columna user_reviews.reviews "
   ]
  },
  {
   "cell_type": "code",
   "execution_count": 18,
   "metadata": {},
   "outputs": [],
   "source": [
    "import pandas as pd\n",
    "import json\n",
    "\n",
    "def desanidar_reviews(df):\n",
    "    # Crear listas vacías para cada nueva columna que queremos crear\n",
    "    columnas_nuevas = ['funny', 'posted', 'last_edited', 'item_id', 'helpful', 'recommend', 'review']\n",
    "    for columna in columnas_nuevas:\n",
    "        df[columna] = None\n",
    "    \n",
    "    # Iterar sobre cada fila del DataFrame\n",
    "    for indice, fila in df.iterrows():\n",
    "        # Desanidar los datos JSON de la columna 'reviews' en una lista\n",
    "        datos_json = json.loads(fila['reviews'])\n",
    "        \n",
    "        # Verificar si los datos son una lista y si hay al menos un elemento\n",
    "        if isinstance(datos_json, list) and len(datos_json) > 0:\n",
    "            # Tomar el primer elemento de la lista como los datos desanidados\n",
    "            elemento = datos_json[0]\n",
    "            # Asignar los valores desanidados a las nuevas columnas\n",
    "            for columna in columnas_nuevas:\n",
    "                df.at[indice, columna] = elemento.get(columna, None)\n",
    "    \n",
    "    # Eliminar la columna 'reviews' original\n",
    "    df.drop(columns=['reviews'], inplace=True)\n",
    "    \n",
    "    return df\n",
    "\n",
    "# Llamar a la función con tu DataFrame\n",
    "user_reviews = desanidar_reviews(user_reviews)\n"
   ]
  },
  {
   "cell_type": "code",
   "execution_count": 20,
   "metadata": {},
   "outputs": [
    {
     "name": "stdout",
     "output_type": "stream",
     "text": [
      "<class 'pandas.core.frame.DataFrame'>\n",
      "RangeIndex: 25799 entries, 0 to 25798\n",
      "Data columns (total 9 columns):\n",
      " #   Column       Non-Null Count  Dtype \n",
      "---  ------       --------------  ----- \n",
      " 0   user_id      25799 non-null  object\n",
      " 1   user_url     25799 non-null  object\n",
      " 2   funny        25771 non-null  object\n",
      " 3   posted       25771 non-null  object\n",
      " 4   last_edited  25771 non-null  object\n",
      " 5   item_id      25771 non-null  object\n",
      " 6   helpful      25771 non-null  object\n",
      " 7   recommend    25771 non-null  object\n",
      " 8   review       25771 non-null  object\n",
      "dtypes: object(9)\n",
      "memory usage: 1.8+ MB\n"
     ]
    }
   ],
   "source": [
    "user_reviews.info()# Observamos que despues de desanidar ha sido reemplazada la columna reviews\n",
    "#por 6 columnas ( 'funny', 'posted', 'last_edited', 'item_id', 'helpful', 'recommend', 'review')"
   ]
  },
  {
   "cell_type": "code",
   "execution_count": 24,
   "metadata": {},
   "outputs": [
    {
     "name": "stdout",
     "output_type": "stream",
     "text": [
      "Valores nulos :\n",
      "user_id         0\n",
      "user_url        0\n",
      "funny          28\n",
      "posted         28\n",
      "last_edited    28\n",
      "item_id        28\n",
      "helpful        28\n",
      "recommend      28\n",
      "review         28\n",
      "dtype: int64\n",
      "196\n",
      "\n",
      "Valores no nulos:\n",
      "user_id        25799\n",
      "user_url       25799\n",
      "funny          25771\n",
      "posted         25771\n",
      "last_edited    25771\n",
      "item_id        25771\n",
      "helpful        25771\n",
      "recommend      25771\n",
      "review         25771\n",
      "dtype: int64\n",
      "231995\n"
     ]
    }
   ],
   "source": [
    "# Ver tanto los valores nulos como los no nulos simultáneamente\n",
    "print(\"Valores nulos :\")\n",
    "print(user_reviews.isnull().sum())\n",
    "print(user_reviews.isnull().sum().sum())\n",
    "print(\"\\nValores no nulos:\")\n",
    "print(user_reviews.notnull().sum())\n",
    "print(user_reviews.notnull().sum().sum())"
   ]
  },
  {
   "cell_type": "code",
   "execution_count": 25,
   "metadata": {},
   "outputs": [],
   "source": [
    "user_reviews.isnull().sum().sum() # total nulos del DataFrame user_reviews\n",
    "user_reviews =  user_reviews.dropna() #  user_reviews sin nulos"
   ]
  },
  {
   "cell_type": "code",
   "execution_count": 30,
   "metadata": {},
   "outputs": [
    {
     "name": "stdout",
     "output_type": "stream",
     "text": [
      "Valores nulos :\n",
      "user_id        0\n",
      "user_url       0\n",
      "funny          0\n",
      "posted         0\n",
      "last_edited    0\n",
      "item_id        0\n",
      "helpful        0\n",
      "recommend      0\n",
      "review         0\n",
      "dtype: int64\n",
      "0\n",
      "\n",
      "Valores no nulos:\n",
      "user_id        25771\n",
      "user_url       25771\n",
      "funny          25771\n",
      "posted         25771\n",
      "last_edited    25771\n",
      "item_id        25771\n",
      "helpful        25771\n",
      "recommend      25771\n",
      "review         25771\n",
      "dtype: int64\n",
      "231939\n"
     ]
    }
   ],
   "source": [
    "# Volvemos a mirar tanto los valores nulos como los no nulos simultáneamente y vemos que ya no hay nulos\n",
    "print(\"Valores nulos :\")\n",
    "print(user_reviews.isnull().sum())\n",
    "print(user_reviews.isnull().sum().sum())\n",
    "print(\"\\nValores no nulos:\")\n",
    "print(user_reviews.notnull().sum())\n",
    "print(user_reviews.notnull().sum().sum())"
   ]
  },
  {
   "cell_type": "markdown",
   "metadata": {},
   "source": [
    "CREAMOS ARCHIVO csv para DataFrame **user_reviews**"
   ]
  },
  {
   "cell_type": "code",
   "execution_count": 32,
   "metadata": {},
   "outputs": [],
   "source": [
    "# Guardar el DataFrame user_reviews en un archivo CSV\n",
    "user_reviews.to_csv('user_reviews.csv', index=False)"
   ]
  },
  {
   "cell_type": "markdown",
   "metadata": {},
   "source": [
    "CREAMOS COLUMNA 'sentiment_analysis' y creamos un csv"
   ]
  },
  {
   "cell_type": "code",
   "execution_count": 33,
   "metadata": {},
   "outputs": [],
   "source": [
    "import pandas as pd\n",
    "from textblob import TextBlob\n",
    "\n",
    "# Función para análisis de sentimiento\n",
    "def analizar_sentimiento(reseña):\n",
    "    if pd.isnull(reseña):\n",
    "        return 1  # Valor neutral si la reseña está ausente\n",
    "    else:\n",
    "        analysis = TextBlob(reseña)\n",
    "        polarity = analysis.sentiment.polarity\n",
    "        if polarity < -0.1:\n",
    "            return 0  # Sentimiento negativo\n",
    "        elif polarity > 0.1:\n",
    "            return 2  # Sentimiento positivo\n",
    "        else:\n",
    "            return 1  # Sentimiento neutral\n",
    "\n",
    "# Cargar el DataFrame user_reviews\n",
    "user_reviews = pd.read_csv('user_reviews.csv')\n",
    "\n",
    "# Aplicar la función a la columna 'review' para crear la columna 'sentiment_analysis'\n",
    "user_reviews['sentiment_analysis'] = user_reviews['review'].apply(analizar_sentimiento)\n",
    "\n",
    "# Eliminar la columna 'review' original\n",
    "user_reviews.drop(columns=['review'], inplace=True)\n",
    "\n",
    "# Guardar el DataFrame actualizado en un nuevo archivo CSV\n",
    "user_reviews.to_csv('user_reviews_con_sentimiento.csv', index=False)\n"
   ]
  },
  {
   "cell_type": "code",
   "execution_count": 1,
   "metadata": {},
   "outputs": [
    {
     "name": "stdout",
     "output_type": "stream",
     "text": [
      "             user_id                                           user_url  \\\n",
      "0  76561197970982479  http://steamcommunity.com/profiles/76561197970...   \n",
      "1            js41637               http://steamcommunity.com/id/js41637   \n",
      "2          evcentric             http://steamcommunity.com/id/evcentric   \n",
      "3              doctr                 http://steamcommunity.com/id/doctr   \n",
      "4          maplemage             http://steamcommunity.com/id/maplemage   \n",
      "\n",
      "                              funny                    posted last_edited  \\\n",
      "0                               NaN  Posted November 5, 2011.         NaN   \n",
      "1                               NaN     Posted June 24, 2014.         NaN   \n",
      "2                               NaN        Posted February 3.         NaN   \n",
      "3                               NaN  Posted October 14, 2013.         NaN   \n",
      "4  3 people found this review funny    Posted April 15, 2014.         NaN   \n",
      "\n",
      "   item_id                                          helpful  recommend  \\\n",
      "0     1250                                   No ratings yet       True   \n",
      "1   251610  15 of 20 people (75%) found this review helpful       True   \n",
      "2   248820                                   No ratings yet       True   \n",
      "3   250320   2 of 2 people (100%) found this review helpful       True   \n",
      "4   211420  35 of 43 people (81%) found this review helpful       True   \n",
      "\n",
      "   sentiment_analysis  \n",
      "0                   2  \n",
      "1                   2  \n",
      "2                   2  \n",
      "3                   2  \n",
      "4                   1  \n"
     ]
    }
   ],
   "source": [
    "import pandas as pd\n",
    "\n",
    "# Cargar el archivo CSV en un DataFrame\n",
    "user_reviews_con_sentimiento = pd.read_csv('user_reviews_con_sentimiento.csv')\n",
    "\n",
    "# Mostrar las primeras filas del DataFrame\n",
    "print(user_reviews_con_sentimiento.head())\n"
   ]
  },
  {
   "cell_type": "code",
   "execution_count": 2,
   "metadata": {},
   "outputs": [
    {
     "name": "stdout",
     "output_type": "stream",
     "text": [
      "<class 'pandas.core.frame.DataFrame'>\n",
      "RangeIndex: 25771 entries, 0 to 25770\n",
      "Data columns (total 9 columns):\n",
      " #   Column              Non-Null Count  Dtype \n",
      "---  ------              --------------  ----- \n",
      " 0   user_id             25771 non-null  object\n",
      " 1   user_url            25771 non-null  object\n",
      " 2   funny               4204 non-null   object\n",
      " 3   posted              25771 non-null  object\n",
      " 4   last_edited         2027 non-null   object\n",
      " 5   item_id             25771 non-null  int64 \n",
      " 6   helpful             25771 non-null  object\n",
      " 7   recommend           25771 non-null  bool  \n",
      " 8   sentiment_analysis  25771 non-null  int64 \n",
      "dtypes: bool(1), int64(2), object(6)\n",
      "memory usage: 1.6+ MB\n"
     ]
    }
   ],
   "source": [
    "user_reviews_con_sentimiento.info()"
   ]
  },
  {
   "cell_type": "code",
   "execution_count": 3,
   "metadata": {},
   "outputs": [
    {
     "name": "stdout",
     "output_type": "stream",
     "text": [
      "0        2\n",
      "1        2\n",
      "2        2\n",
      "3        2\n",
      "4        1\n",
      "        ..\n",
      "25766    2\n",
      "25767    1\n",
      "25768    1\n",
      "25769    2\n",
      "25770    1\n",
      "Name: sentiment_analysis, Length: 25771, dtype: int64\n"
     ]
    }
   ],
   "source": [
    "# Visualizar la columna 'sentiment_analysis' del DataFrame\n",
    "columna_sentimiento = user_reviews_con_sentimiento['sentiment_analysis']\n",
    "print(columna_sentimiento)\n"
   ]
  },
  {
   "cell_type": "code",
   "execution_count": 4,
   "metadata": {},
   "outputs": [
    {
     "name": "stdout",
     "output_type": "stream",
     "text": [
      "0     2\n",
      "1     2\n",
      "2     2\n",
      "3     2\n",
      "4     1\n",
      "5     0\n",
      "6     1\n",
      "7     1\n",
      "8     0\n",
      "9     2\n",
      "10    1\n",
      "11    1\n",
      "12    1\n",
      "13    1\n",
      "14    0\n",
      "15    2\n",
      "16    0\n",
      "17    2\n",
      "18    1\n",
      "19    2\n",
      "Name: sentiment_analysis, dtype: int64\n"
     ]
    }
   ],
   "source": [
    "# Visualizar las primeras 20 filas de la columna 'sentiment_analysis'\n",
    "primeras_20_filas_sentimiento = user_reviews_con_sentimiento['sentiment_analysis'].head(20)\n",
    "print(primeras_20_filas_sentimiento)\n"
   ]
  },
  {
   "cell_type": "markdown",
   "metadata": {},
   "source": [
    "SEGUIMOS CON  EL PROCESAMIENT DE LOS DataFrame 'user_items' y  'steam_games'"
   ]
  }
 ],
 "metadata": {
  "kernelspec": {
   "display_name": "Python 3",
   "language": "python",
   "name": "python3"
  },
  "language_info": {
   "codemirror_mode": {
    "name": "ipython",
    "version": 3
   },
   "file_extension": ".py",
   "mimetype": "text/x-python",
   "name": "python",
   "nbconvert_exporter": "python",
   "pygments_lexer": "ipython3",
   "version": "3.11.8"
  }
 },
 "nbformat": 4,
 "nbformat_minor": 2
}
