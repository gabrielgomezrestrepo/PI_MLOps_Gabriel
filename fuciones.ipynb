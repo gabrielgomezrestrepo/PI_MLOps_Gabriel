{
 "cells": [
  {
   "cell_type": "code",
   "execution_count": null,
   "metadata": {},
   "outputs": [],
   "source": [
    "def sentiment_analysis(year:int):\n",
    "    \"\"\"\n",
    "    sentimiento de consumidores de los juegos lanzados en año 'year'\n",
    "    \"\"\"\n",
    "    juegos_por_año_lanzamiento=steam_games[steam_games[\"release_date\"].str.contains(str(year))][\"id\"]\n",
    "    juegos_por_año_lanzamiento=juegos_por_año_lanzamiento.to_list()\n",
    "\n",
    "    compradores=users_items[ users_items[\"item_id\"].isin(juegos_por_año_lanzamiento) ].user_id.to_list()\n",
    "    \n",
    "    user_reviews[ user_reviews[\"user_id\"].isin(compradores) ][[\"user_id\",\"sentiment_analysis\"]]\n",
    "    \n",
    "    sentiment_analysis_data=user_reviews[ user_reviews[\"user_id\"].isin(compradores) ][[\"user_id\",\"sentiment_analysis\"]]\n",
    "    \n",
    "    valoraciones_por_año=sentiment_analysis_data[\"sentiment_analysis\"].value_counts()\n",
    "    neutrales=valoraciones_por_año[1]\n",
    "    positivas=valoraciones_por_año[2]\n",
    "    negativas=valoraciones_por_año[0]\n",
    "    print(\"{{Negative = {}, Neutral = {}, Positive = {}}}\".format(negativas,neutrales,positivas))\n"
   ]
  }
 ],
 "metadata": {
  "language_info": {
   "name": "python"
  }
 },
 "nbformat": 4,
 "nbformat_minor": 2
}
